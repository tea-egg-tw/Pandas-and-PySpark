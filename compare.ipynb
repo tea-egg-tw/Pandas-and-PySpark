{
 "cells": [
  {
   "cell_type": "code",
   "execution_count": null,
   "id": "5428803a",
   "metadata": {},
   "outputs": [],
   "source": [
    "import time\n",
    "import pandas as pd"
   ]
  },
  {
   "cell_type": "code",
   "execution_count": null,
   "id": "865d8d53",
   "metadata": {},
   "outputs": [],
   "source": [
    "df = pd.read_csv('Data8277.csv', low_memory=False)\n",
    "df.head()"
   ]
  },
  {
   "cell_type": "code",
   "execution_count": null,
   "id": "0417d41e",
   "metadata": {},
   "outputs": [],
   "source": [
    "start = time.time()\n",
    "\n",
    "df = pd.read_csv('data.csv', low_memory=False)\n",
    "df1 = df.sort_values(by='int')\n",
    "\n",
    "end = time.time()\n",
    "print(\"執行時間：%f 秒\" % (end - start))"
   ]
  },
  {
   "cell_type": "code",
   "execution_count": null,
   "id": "e8e76701",
   "metadata": {},
   "outputs": [],
   "source": [
    "import time\n",
    "from pyspark.sql import SparkSession"
   ]
  },
  {
   "cell_type": "code",
   "execution_count": null,
   "id": "406f58e5",
   "metadata": {},
   "outputs": [],
   "source": [
    "start = time.time()\n",
    "\n",
    "spark = SparkSession \\\n",
    "     .builder \\\n",
    "     .appName(\"Python Spark SQL basic example\") \\\n",
    "     .getOrCreate() \\\n",
    "\n",
    "df1 = spark.read.csv('data.csv', header=True, inferSchema=True)\n",
    "df1.sort(\"int\")\n",
    "\n",
    "end = time.time()\n",
    "print(\"執行時間：%f 秒\" % (end - start))"
   ]
  },
  {
   "cell_type": "code",
   "execution_count": null,
   "id": "46b8c64a",
   "metadata": {},
   "outputs": [],
   "source": [
    "start = time.time()\n",
    "\n",
    "df = pd.read_csv('Data8277.csv', low_memory=False)\n",
    "df1 = df.sort_values(by='count')\n",
    "\n",
    "end = time.time()\n",
    "print(\"執行時間：%f 秒\" % (end - start))"
   ]
  },
  {
   "cell_type": "code",
   "execution_count": null,
   "id": "ddeb0202",
   "metadata": {},
   "outputs": [],
   "source": [
    "start = time.time()\n",
    "\n",
    "spark = SparkSession \\\n",
    "     .builder \\\n",
    "     .appName(\"Python Spark SQL basic example\") \\\n",
    "     .getOrCreate() \\\n",
    "\n",
    "df1 = spark.read.csv('Data8277.csv', header=True, inferSchema=True)\n",
    "df1.sort(\"count\")\n",
    "\n",
    "end = time.time()\n",
    "print(\"執行時間：%f 秒\" % (end - start))"
   ]
  },
  {
   "cell_type": "code",
   "execution_count": null,
   "id": "93cfdd82",
   "metadata": {},
   "outputs": [],
   "source": [
    "from pyspark import SparkContext"
   ]
  },
  {
   "cell_type": "code",
   "execution_count": null,
   "id": "844cfb3b",
   "metadata": {},
   "outputs": [],
   "source": [
    "SparkContext.setSystemProperty('spark.executor.memory', '10g')\n",
    "sc = SparkContext(\"local\", \"App Name\")"
   ]
  },
  {
   "cell_type": "code",
   "execution_count": null,
   "id": "ba66fd07",
   "metadata": {},
   "outputs": [],
   "source": [
    "SparkContext.stop(sc)"
   ]
  },
  {
   "cell_type": "code",
   "execution_count": null,
   "id": "6ea49d8e",
   "metadata": {},
   "outputs": [],
   "source": [
    "sc._conf.getAll()"
   ]
  },
  {
   "cell_type": "code",
   "execution_count": 1,
   "id": "4bad8386",
   "metadata": {},
   "outputs": [],
   "source": [
    "import pandas"
   ]
  },
  {
   "cell_type": "code",
   "execution_count": 8,
   "id": "f51b3049",
   "metadata": {},
   "outputs": [
    {
     "name": "stdout",
     "output_type": "stream",
     "text": [
      "[1, 3, 5, 3]\n",
      "[[1, 2], [4, 7]]\n"
     ]
    }
   ],
   "source": [
    "df = [1,3,5,3]\n",
    "print(df)\n",
    "df1 = [[1,2],[4,7]]\n",
    "print(df1)"
   ]
  }
 ],
 "metadata": {
  "kernelspec": {
   "display_name": "Python 3 (ipykernel)",
   "language": "python",
   "name": "python3"
  },
  "language_info": {
   "codemirror_mode": {
    "name": "ipython",
    "version": 3
   },
   "file_extension": ".py",
   "mimetype": "text/x-python",
   "name": "python",
   "nbconvert_exporter": "python",
   "pygments_lexer": "ipython3",
   "version": "3.9.7"
  }
 },
 "nbformat": 4,
 "nbformat_minor": 5
}
